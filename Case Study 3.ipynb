{
 "cells": [
  {
   "cell_type": "raw",
   "id": "dfa0bc2e-725a-4ef2-8ca4-1d7446ac5086",
   "metadata": {},
   "source": [
    "1. Importing Basic Library"
   ]
  },
  {
   "cell_type": "code",
   "execution_count": 1,
   "id": "96a7a1cf-ba5c-4ccd-b1af-601ed283d69d",
   "metadata": {},
   "outputs": [],
   "source": [
    "import pandas as pd\n",
    "import numpy as np\n",
    "import matplotlib.pyplot as plt\n",
    "import seaborn as sns\n",
    "from sklearn.feature_extraction.text import TfidfVectorizer\n",
    "from sklearn.metrics.pairwise import cosine_similarity\n"
   ]
  },
  {
   "cell_type": "raw",
   "id": "fce910f7-3c24-4079-ab89-2d46b0c69339",
   "metadata": {},
   "source": [
    "2. Loading Dataset"
   ]
  },
  {
   "cell_type": "code",
   "execution_count": 2,
   "id": "9357381e-e0ed-4526-9d19-e9b6df2f93b4",
   "metadata": {},
   "outputs": [
    {
     "data": {
      "text/html": [
       "<div>\n",
       "<style scoped>\n",
       "    .dataframe tbody tr th:only-of-type {\n",
       "        vertical-align: middle;\n",
       "    }\n",
       "\n",
       "    .dataframe tbody tr th {\n",
       "        vertical-align: top;\n",
       "    }\n",
       "\n",
       "    .dataframe thead th {\n",
       "        text-align: right;\n",
       "    }\n",
       "</style>\n",
       "<table border=\"1\" class=\"dataframe\">\n",
       "  <thead>\n",
       "    <tr style=\"text-align: right;\">\n",
       "      <th></th>\n",
       "      <th>model_names</th>\n",
       "      <th>ratings</th>\n",
       "      <th>price</th>\n",
       "      <th>imgURL</th>\n",
       "      <th>storage_ram</th>\n",
       "      <th>os_processor</th>\n",
       "      <th>network</th>\n",
       "      <th>battery</th>\n",
       "    </tr>\n",
       "  </thead>\n",
       "  <tbody>\n",
       "    <tr>\n",
       "      <th>0</th>\n",
       "      <td>REDMI 10 Power (Sporty Orange, 128 GB)</td>\n",
       "      <td>4.2</td>\n",
       "      <td>₹13,500</td>\n",
       "      <td>https://rukminim2.flixcart.com/image/312/312/x...</td>\n",
       "      <td>Internal Storage128 GBRAM8 GBMemory Card Slot ...</td>\n",
       "      <td>Operating SystemAndroid 13Processor CoreOcta C...</td>\n",
       "      <td>Network Type4G VOLTESupported Networks4G LTE</td>\n",
       "      <td>Battery Capacity6000 mAh</td>\n",
       "    </tr>\n",
       "    <tr>\n",
       "      <th>1</th>\n",
       "      <td>REDMI 10 Power (Power Black, 128 GB)</td>\n",
       "      <td>4.2</td>\n",
       "      <td>₹12,840</td>\n",
       "      <td>https://rukminim2.flixcart.com/image/312/312/x...</td>\n",
       "      <td>Internal Storage128 GBRAM8 GBMemory Card Slot ...</td>\n",
       "      <td>Operating SystemAndroid 13Processor CoreOcta C...</td>\n",
       "      <td>Network Type4G VOLTESupported Networks4G VoLTE</td>\n",
       "      <td>Battery Capacity6000 mAh</td>\n",
       "    </tr>\n",
       "    <tr>\n",
       "      <th>2</th>\n",
       "      <td>Redmi 9A Sport (Metallic Blue, 32 GB)</td>\n",
       "      <td>4.1</td>\n",
       "      <td>₹7,520</td>\n",
       "      <td>https://rukminim2.flixcart.com/image/312/312/x...</td>\n",
       "      <td>Internal Storage32 GBRAM2 GBMemory Card Slot T...</td>\n",
       "      <td>Operating SystemAndroid Q 10Processor CoreOcta...</td>\n",
       "      <td>Network Type4G VOLTE, 4GSupported Networks4G LTE</td>\n",
       "      <td>Battery Capacity5000 mAh</td>\n",
       "    </tr>\n",
       "    <tr>\n",
       "      <th>3</th>\n",
       "      <td>Redmi 9A Sport (Coral Green, 32 GB)</td>\n",
       "      <td>4.2</td>\n",
       "      <td>₹8,450</td>\n",
       "      <td>https://rukminim2.flixcart.com/image/312/312/x...</td>\n",
       "      <td>Internal Storage32 GBRAM3 GBMemory Card Slot T...</td>\n",
       "      <td>Operating SystemAndroid Q 10Processor CoreOcta...</td>\n",
       "      <td>Network Type4G VOLTE, 4GSupported Networks4G V...</td>\n",
       "      <td>Battery Capacity5000 mAh</td>\n",
       "    </tr>\n",
       "    <tr>\n",
       "      <th>4</th>\n",
       "      <td>Xiaomi 11Lite NE (Vinyl Black, 128 GB)</td>\n",
       "      <td>4.2</td>\n",
       "      <td>₹21,644</td>\n",
       "      <td>https://rukminim2.flixcart.com/image/312/312/x...</td>\n",
       "      <td>Internal Storage128 GBRAM6 GBExpandable Storag...</td>\n",
       "      <td>Operating SystemAndroid 11Processor TypeQualco...</td>\n",
       "      <td>Network Type5G, 4G VOLTESupported Networks5G, ...</td>\n",
       "      <td>Battery Capacity4250 mAhBattery TypeLi-Po</td>\n",
       "    </tr>\n",
       "  </tbody>\n",
       "</table>\n",
       "</div>"
      ],
      "text/plain": [
       "                              model_names  ratings    price  \\\n",
       "0  REDMI 10 Power (Sporty Orange, 128 GB)      4.2  ₹13,500   \n",
       "1    REDMI 10 Power (Power Black, 128 GB)      4.2  ₹12,840   \n",
       "2   Redmi 9A Sport (Metallic Blue, 32 GB)      4.1   ₹7,520   \n",
       "3     Redmi 9A Sport (Coral Green, 32 GB)      4.2   ₹8,450   \n",
       "4  Xiaomi 11Lite NE (Vinyl Black, 128 GB)      4.2  ₹21,644   \n",
       "\n",
       "                                              imgURL  \\\n",
       "0  https://rukminim2.flixcart.com/image/312/312/x...   \n",
       "1  https://rukminim2.flixcart.com/image/312/312/x...   \n",
       "2  https://rukminim2.flixcart.com/image/312/312/x...   \n",
       "3  https://rukminim2.flixcart.com/image/312/312/x...   \n",
       "4  https://rukminim2.flixcart.com/image/312/312/x...   \n",
       "\n",
       "                                         storage_ram  \\\n",
       "0  Internal Storage128 GBRAM8 GBMemory Card Slot ...   \n",
       "1  Internal Storage128 GBRAM8 GBMemory Card Slot ...   \n",
       "2  Internal Storage32 GBRAM2 GBMemory Card Slot T...   \n",
       "3  Internal Storage32 GBRAM3 GBMemory Card Slot T...   \n",
       "4  Internal Storage128 GBRAM6 GBExpandable Storag...   \n",
       "\n",
       "                                        os_processor  \\\n",
       "0  Operating SystemAndroid 13Processor CoreOcta C...   \n",
       "1  Operating SystemAndroid 13Processor CoreOcta C...   \n",
       "2  Operating SystemAndroid Q 10Processor CoreOcta...   \n",
       "3  Operating SystemAndroid Q 10Processor CoreOcta...   \n",
       "4  Operating SystemAndroid 11Processor TypeQualco...   \n",
       "\n",
       "                                             network  \\\n",
       "0       Network Type4G VOLTESupported Networks4G LTE   \n",
       "1     Network Type4G VOLTESupported Networks4G VoLTE   \n",
       "2   Network Type4G VOLTE, 4GSupported Networks4G LTE   \n",
       "3  Network Type4G VOLTE, 4GSupported Networks4G V...   \n",
       "4  Network Type5G, 4G VOLTESupported Networks5G, ...   \n",
       "\n",
       "                                     battery  \n",
       "0                   Battery Capacity6000 mAh  \n",
       "1                   Battery Capacity6000 mAh  \n",
       "2                   Battery Capacity5000 mAh  \n",
       "3                   Battery Capacity5000 mAh  \n",
       "4  Battery Capacity4250 mAhBattery TypeLi-Po  "
      ]
     },
     "execution_count": 2,
     "metadata": {},
     "output_type": "execute_result"
    }
   ],
   "source": [
    "df = pd.read_csv(\"mi_data.csv\")\n",
    "df.head()"
   ]
  },
  {
   "cell_type": "raw",
   "id": "ef99ddfc-ee0f-4eb6-84f3-723b27b0f329",
   "metadata": {},
   "source": [
    "3. Data Understanding and Cleaning"
   ]
  },
  {
   "cell_type": "code",
   "execution_count": 3,
   "id": "b38147ff-fb0a-4b4e-85f7-e8e308166f81",
   "metadata": {},
   "outputs": [
    {
     "name": "stdout",
     "output_type": "stream",
     "text": [
      "<class 'pandas.core.frame.DataFrame'>\n",
      "RangeIndex: 548 entries, 0 to 547\n",
      "Data columns (total 8 columns):\n",
      " #   Column        Non-Null Count  Dtype  \n",
      "---  ------        --------------  -----  \n",
      " 0   model_names   548 non-null    object \n",
      " 1   ratings       548 non-null    float64\n",
      " 2   price         548 non-null    object \n",
      " 3   imgURL        548 non-null    object \n",
      " 4   storage_ram   548 non-null    object \n",
      " 5   os_processor  548 non-null    object \n",
      " 6   network       548 non-null    object \n",
      " 7   battery       548 non-null    object \n",
      "dtypes: float64(1), object(7)\n",
      "memory usage: 34.4+ KB\n"
     ]
    },
    {
     "data": {
      "text/html": [
       "<div>\n",
       "<style scoped>\n",
       "    .dataframe tbody tr th:only-of-type {\n",
       "        vertical-align: middle;\n",
       "    }\n",
       "\n",
       "    .dataframe tbody tr th {\n",
       "        vertical-align: top;\n",
       "    }\n",
       "\n",
       "    .dataframe thead th {\n",
       "        text-align: right;\n",
       "    }\n",
       "</style>\n",
       "<table border=\"1\" class=\"dataframe\">\n",
       "  <thead>\n",
       "    <tr style=\"text-align: right;\">\n",
       "      <th></th>\n",
       "      <th>model_names</th>\n",
       "      <th>ratings</th>\n",
       "      <th>price</th>\n",
       "      <th>imgURL</th>\n",
       "      <th>storage_ram</th>\n",
       "      <th>os_processor</th>\n",
       "      <th>network</th>\n",
       "      <th>battery</th>\n",
       "    </tr>\n",
       "  </thead>\n",
       "  <tbody>\n",
       "    <tr>\n",
       "      <th>count</th>\n",
       "      <td>548</td>\n",
       "      <td>548.000000</td>\n",
       "      <td>548</td>\n",
       "      <td>548</td>\n",
       "      <td>548</td>\n",
       "      <td>548</td>\n",
       "      <td>548</td>\n",
       "      <td>548</td>\n",
       "    </tr>\n",
       "    <tr>\n",
       "      <th>unique</th>\n",
       "      <td>392</td>\n",
       "      <td>NaN</td>\n",
       "      <td>202</td>\n",
       "      <td>311</td>\n",
       "      <td>115</td>\n",
       "      <td>130</td>\n",
       "      <td>117</td>\n",
       "      <td>65</td>\n",
       "    </tr>\n",
       "    <tr>\n",
       "      <th>top</th>\n",
       "      <td>REDMI Note 11T 5G (Stardust White, 128 GB)</td>\n",
       "      <td>NaN</td>\n",
       "      <td>₹16,999</td>\n",
       "      <td>https://rukminim2.flixcart.com/image/312/312/x...</td>\n",
       "      <td>Internal Storage64 GBRAM4 GBMemory Card Slot T...</td>\n",
       "      <td>Operating SystemAndroid 12Processor TypeMediat...</td>\n",
       "      <td>Network Type4G VOLTESupported Networks4G VoLTE</td>\n",
       "      <td>Battery Capacity5000 mAh</td>\n",
       "    </tr>\n",
       "    <tr>\n",
       "      <th>freq</th>\n",
       "      <td>6</td>\n",
       "      <td>NaN</td>\n",
       "      <td>23</td>\n",
       "      <td>7</td>\n",
       "      <td>47</td>\n",
       "      <td>17</td>\n",
       "      <td>36</td>\n",
       "      <td>157</td>\n",
       "    </tr>\n",
       "    <tr>\n",
       "      <th>mean</th>\n",
       "      <td>NaN</td>\n",
       "      <td>4.222810</td>\n",
       "      <td>NaN</td>\n",
       "      <td>NaN</td>\n",
       "      <td>NaN</td>\n",
       "      <td>NaN</td>\n",
       "      <td>NaN</td>\n",
       "      <td>NaN</td>\n",
       "    </tr>\n",
       "    <tr>\n",
       "      <th>std</th>\n",
       "      <td>NaN</td>\n",
       "      <td>0.264281</td>\n",
       "      <td>NaN</td>\n",
       "      <td>NaN</td>\n",
       "      <td>NaN</td>\n",
       "      <td>NaN</td>\n",
       "      <td>NaN</td>\n",
       "      <td>NaN</td>\n",
       "    </tr>\n",
       "    <tr>\n",
       "      <th>min</th>\n",
       "      <td>NaN</td>\n",
       "      <td>2.500000</td>\n",
       "      <td>NaN</td>\n",
       "      <td>NaN</td>\n",
       "      <td>NaN</td>\n",
       "      <td>NaN</td>\n",
       "      <td>NaN</td>\n",
       "      <td>NaN</td>\n",
       "    </tr>\n",
       "    <tr>\n",
       "      <th>25%</th>\n",
       "      <td>NaN</td>\n",
       "      <td>4.200000</td>\n",
       "      <td>NaN</td>\n",
       "      <td>NaN</td>\n",
       "      <td>NaN</td>\n",
       "      <td>NaN</td>\n",
       "      <td>NaN</td>\n",
       "      <td>NaN</td>\n",
       "    </tr>\n",
       "    <tr>\n",
       "      <th>50%</th>\n",
       "      <td>NaN</td>\n",
       "      <td>4.200000</td>\n",
       "      <td>NaN</td>\n",
       "      <td>NaN</td>\n",
       "      <td>NaN</td>\n",
       "      <td>NaN</td>\n",
       "      <td>NaN</td>\n",
       "      <td>NaN</td>\n",
       "    </tr>\n",
       "    <tr>\n",
       "      <th>75%</th>\n",
       "      <td>NaN</td>\n",
       "      <td>4.400000</td>\n",
       "      <td>NaN</td>\n",
       "      <td>NaN</td>\n",
       "      <td>NaN</td>\n",
       "      <td>NaN</td>\n",
       "      <td>NaN</td>\n",
       "      <td>NaN</td>\n",
       "    </tr>\n",
       "    <tr>\n",
       "      <th>max</th>\n",
       "      <td>NaN</td>\n",
       "      <td>4.500000</td>\n",
       "      <td>NaN</td>\n",
       "      <td>NaN</td>\n",
       "      <td>NaN</td>\n",
       "      <td>NaN</td>\n",
       "      <td>NaN</td>\n",
       "      <td>NaN</td>\n",
       "    </tr>\n",
       "  </tbody>\n",
       "</table>\n",
       "</div>"
      ],
      "text/plain": [
       "                                       model_names     ratings    price  \\\n",
       "count                                          548  548.000000      548   \n",
       "unique                                         392         NaN      202   \n",
       "top     REDMI Note 11T 5G (Stardust White, 128 GB)         NaN  ₹16,999   \n",
       "freq                                             6         NaN       23   \n",
       "mean                                           NaN    4.222810      NaN   \n",
       "std                                            NaN    0.264281      NaN   \n",
       "min                                            NaN    2.500000      NaN   \n",
       "25%                                            NaN    4.200000      NaN   \n",
       "50%                                            NaN    4.200000      NaN   \n",
       "75%                                            NaN    4.400000      NaN   \n",
       "max                                            NaN    4.500000      NaN   \n",
       "\n",
       "                                                   imgURL  \\\n",
       "count                                                 548   \n",
       "unique                                                311   \n",
       "top     https://rukminim2.flixcart.com/image/312/312/x...   \n",
       "freq                                                    7   \n",
       "mean                                                  NaN   \n",
       "std                                                   NaN   \n",
       "min                                                   NaN   \n",
       "25%                                                   NaN   \n",
       "50%                                                   NaN   \n",
       "75%                                                   NaN   \n",
       "max                                                   NaN   \n",
       "\n",
       "                                              storage_ram  \\\n",
       "count                                                 548   \n",
       "unique                                                115   \n",
       "top     Internal Storage64 GBRAM4 GBMemory Card Slot T...   \n",
       "freq                                                   47   \n",
       "mean                                                  NaN   \n",
       "std                                                   NaN   \n",
       "min                                                   NaN   \n",
       "25%                                                   NaN   \n",
       "50%                                                   NaN   \n",
       "75%                                                   NaN   \n",
       "max                                                   NaN   \n",
       "\n",
       "                                             os_processor  \\\n",
       "count                                                 548   \n",
       "unique                                                130   \n",
       "top     Operating SystemAndroid 12Processor TypeMediat...   \n",
       "freq                                                   17   \n",
       "mean                                                  NaN   \n",
       "std                                                   NaN   \n",
       "min                                                   NaN   \n",
       "25%                                                   NaN   \n",
       "50%                                                   NaN   \n",
       "75%                                                   NaN   \n",
       "max                                                   NaN   \n",
       "\n",
       "                                               network  \\\n",
       "count                                              548   \n",
       "unique                                             117   \n",
       "top     Network Type4G VOLTESupported Networks4G VoLTE   \n",
       "freq                                                36   \n",
       "mean                                               NaN   \n",
       "std                                                NaN   \n",
       "min                                                NaN   \n",
       "25%                                                NaN   \n",
       "50%                                                NaN   \n",
       "75%                                                NaN   \n",
       "max                                                NaN   \n",
       "\n",
       "                         battery  \n",
       "count                        548  \n",
       "unique                        65  \n",
       "top     Battery Capacity5000 mAh  \n",
       "freq                         157  \n",
       "mean                         NaN  \n",
       "std                          NaN  \n",
       "min                          NaN  \n",
       "25%                          NaN  \n",
       "50%                          NaN  \n",
       "75%                          NaN  \n",
       "max                          NaN  "
      ]
     },
     "execution_count": 3,
     "metadata": {},
     "output_type": "execute_result"
    }
   ],
   "source": [
    "df.info()\n",
    "df.describe(include=\"all\")"
   ]
  },
  {
   "cell_type": "code",
   "execution_count": 4,
   "id": "3db514d6-d011-49f1-8d25-a7467865122c",
   "metadata": {},
   "outputs": [],
   "source": [
    "#Perbaiki kolom price (karena ada simbol ₹ dan koma):"
   ]
  },
  {
   "cell_type": "code",
   "execution_count": 5,
   "id": "d84fb7c8-3904-458d-bfc1-7b23df84ffc2",
   "metadata": {},
   "outputs": [],
   "source": [
    "df['price'] = df['price'].str.replace(\"₹\",\"\").str.replace(\",\",\"\").astype(int)"
   ]
  },
  {
   "cell_type": "code",
   "execution_count": 6,
   "id": "aaf34f1a-a593-41d0-b17a-4dd41b217ac4",
   "metadata": {},
   "outputs": [],
   "source": [
    "#Normalisasi teks kolom battery, storage_ram, os_processor, network:"
   ]
  },
  {
   "cell_type": "code",
   "execution_count": 7,
   "id": "6cfcd12b-01bc-491b-b442-1f1bbc36b20e",
   "metadata": {},
   "outputs": [],
   "source": [
    "df['battery'] = df['battery'].str.extract(r'(\\d+)').astype(float)\n",
    "df['storage_ram'] = df['storage_ram'].str.replace(\"\\s+\", \" \", regex=True)\n",
    "df['os_processor'] = df['os_processor'].str.replace(\"\\s+\", \" \", regex=True)\n",
    "df['network'] = df['network'].str.replace(\"\\s+\", \" \", regex=True)"
   ]
  },
  {
   "cell_type": "code",
   "execution_count": 8,
   "id": "979b54f5-0500-4925-8673-0143e7d33dee",
   "metadata": {},
   "outputs": [],
   "source": [
    "df[['storage','ram']] = df['storage_ram'].str.extract(r'(\\d+)\\s*GB.*?(\\d+)\\s*GB')\n",
    "df['storage'] = df['storage'].astype(float)\n",
    "df['ram'] = df['ram'].astype(float)"
   ]
  },
  {
   "cell_type": "raw",
   "id": "828f5786-b16e-406a-bc23-6f7fb5b8d96e",
   "metadata": {},
   "source": [
    "4. Exploratory Data Analysis (EDA)"
   ]
  },
  {
   "cell_type": "code",
   "execution_count": 10,
   "id": "07c5c960-5e30-4077-8d6c-51a5b774b90f",
   "metadata": {},
   "outputs": [
    {
     "data": {
      "image/png": "[encoded data removed]",
      "text/plain": [
       "<Figure size 800x500 with 1 Axes>"
      ]
     },
     "metadata": {},
     "output_type": "display_data"
    }
   ],
   "source": [
    "#Distribusi harga:\n",
    "plt.figure(figsize=(8,5))\n",
    "sns.histplot(df['price'], bins=20, kde=True)\n",
    "plt.title(\"Distribusi Harga Ponsel MI\")\n",
    "plt.show()"
   ]
  },
  {
   "cell_type": "code",
   "execution_count": 11,
   "id": "65609205-817f-4499-89ce-49cfaac31c20",
   "metadata": {},
   "outputs": [],
   "source": [
    "# Rating vs Harga:"
   ]
  },
  {
   "cell_type": "code",
   "execution_count": 12,
   "id": "d94eb5e1-b1b9-4493-a426-6a43fa249456",
   "metadata": {},
   "outputs": [
    {
     "data": {
      "image/png": "[encoded data removed]",
      "text/plain": [
       "<Figure size 800x500 with 1 Axes>"
      ]
     },
     "metadata": {},
     "output_type": "display_data"
    }
   ],
   "source": [
    "plt.figure(figsize=(8,5))\n",
    "sns.scatterplot(x=df['price'], y=df['ratings'])\n",
    "plt.title(\"Harga vs Ratings\")\n",
    "plt.show()"
   ]
  },
  {
   "cell_type": "code",
   "execution_count": 13,
   "id": "744a92d2-e4ff-4d53-992a-c16d15f8e391",
   "metadata": {},
   "outputs": [
    {
     "data": {
      "text/plain": [
       "<Axes: xlabel='battery', ylabel='price'>"
      ]
     },
     "execution_count": 13,
     "metadata": {},
     "output_type": "execute_result"
    },
    {
     "data": {
      "image/png": "[encoded data removed]",
      "text/plain": [
       "<Figure size 640x480 with 1 Axes>"
      ]
     },
     "metadata": {},
     "output_type": "display_data"
    }
   ],
   "source": [
    "#Baterai vs Harga:\n",
    "sns.scatterplot(x=df['battery'], y=df['price'], hue=df['ratings'])"
   ]
  },
  {
   "cell_type": "raw",
   "id": "9da956ec-a535-4874-b4fd-8450daded8de",
   "metadata": {},
   "source": [
    "5. Feature Engineering untuk Recommender"
   ]
  },
  {
   "cell_type": "code",
   "execution_count": 15,
   "id": "721ea1b9-a150-4ae7-b403-d5a84b879078",
   "metadata": {},
   "outputs": [],
   "source": [
    "df['features'] = df['storage_ram'] + \" \" + df['os_processor'] + \" \" + df['network'] + \" Battery \" + df['battery'].astype(str)"
   ]
  },
  {
   "cell_type": "raw",
   "id": "c2f83f88-faf3-44ad-a183-67b492b98760",
   "metadata": {},
   "source": [
    "6. TF-IDF Vectorization"
   ]
  },
  {
   "cell_type": "code",
   "execution_count": 17,
   "id": "ff9fb7a1-a997-4205-bd06-4615d5f1e32e",
   "metadata": {},
   "outputs": [],
   "source": [
    "vectorizer = TfidfVectorizer(stop_words=\"english\")\n",
    "tfidf_matrix = vectorizer.fit_transform(df['features'])"
   ]
  },
  {
   "cell_type": "raw",
   "id": "dbf6b1f6-1c25-4b4c-9a46-6ec902250955",
   "metadata": {},
   "source": [
    "7. Cosine Similarity"
   ]
  },
  {
   "cell_type": "code",
   "execution_count": 19,
   "id": "ca80ba6a-541a-4a49-b135-a6f44c2475c4",
   "metadata": {},
   "outputs": [],
   "source": [
    "cosine_sim = cosine_similarity(tfidf_matrix, tfidf_matrix)"
   ]
  },
  {
   "cell_type": "raw",
   "id": "014404c4-9522-492a-801a-14e64773157b",
   "metadata": {},
   "source": [
    "8. Recommendation Function"
   ]
  },
  {
   "cell_type": "code",
   "execution_count": 2,
   "id": "7851e279-da3d-451b-a61e-6202e55e1578",
   "metadata": {},
   "outputs": [],
   "source": [
    "def recommend_phone(phone_name, top_n=5):\n",
    "    if phone_name not in df['model_names'].values:\n",
    "        return \"Phone not found in dataset.\"\n",
    "    \n",
    "    idx = df[df['model_names'] == phone_name].index[0]\n",
    "    sim_scores = list(enumerate(cosine_sim[idx]))\n",
    "    sim_scores = sorted(sim_scores, key=lambda x: x[1], reverse=True)\n",
    "    sim_scores = sim_scores[1:top_n+1]  # skip dirinya sendiri\n",
    "    \n",
    "    phone_indices = [i[0] for i in sim_scores]\n",
    "    return df.iloc[phone_indices][['model_names', 'price', 'ratings']]\n"
   ]
  },
  {
   "cell_type": "raw",
   "id": "adfd9111-fb10-4870-ba8f-b1a20e27b505",
   "metadata": {},
   "source": [
    "9. Implementation"
   ]
  },
  {
   "cell_type": "code",
   "execution_count": 22,
   "id": "11211a4b-69f3-4b4e-b070-dde723175795",
   "metadata": {},
   "outputs": [
    {
     "data": {
      "text/html": [
       "<div>\n",
       "<style scoped>\n",
       "    .dataframe tbody tr th:only-of-type {\n",
       "        vertical-align: middle;\n",
       "    }\n",
       "\n",
       "    .dataframe tbody tr th {\n",
       "        vertical-align: top;\n",
       "    }\n",
       "\n",
       "    .dataframe thead th {\n",
       "        text-align: right;\n",
       "    }\n",
       "</style>\n",
       "<table border=\"1\" class=\"dataframe\">\n",
       "  <thead>\n",
       "    <tr style=\"text-align: right;\">\n",
       "      <th></th>\n",
       "      <th>model_names</th>\n",
       "      <th>price</th>\n",
       "      <th>ratings</th>\n",
       "    </tr>\n",
       "  </thead>\n",
       "  <tbody>\n",
       "    <tr>\n",
       "      <th>1</th>\n",
       "      <td>REDMI 10 Power (Power Black, 128 GB)</td>\n",
       "      <td>12840</td>\n",
       "      <td>4.2</td>\n",
       "    </tr>\n",
       "    <tr>\n",
       "      <th>336</th>\n",
       "      <td>REDMI A2+ (Sea Green, 64 GB)</td>\n",
       "      <td>8377</td>\n",
       "      <td>4.2</td>\n",
       "    </tr>\n",
       "    <tr>\n",
       "      <th>337</th>\n",
       "      <td>REDMI A2+ (Classic Black, 64 GB)</td>\n",
       "      <td>8288</td>\n",
       "      <td>4.2</td>\n",
       "    </tr>\n",
       "  </tbody>\n",
       "</table>\n",
       "</div>"
      ],
      "text/plain": [
       "                              model_names  price  ratings\n",
       "1    REDMI 10 Power (Power Black, 128 GB)  12840      4.2\n",
       "336          REDMI A2+ (Sea Green, 64 GB)   8377      4.2\n",
       "337      REDMI A2+ (Classic Black, 64 GB)   8288      4.2"
      ]
     },
     "execution_count": 22,
     "metadata": {},
     "output_type": "execute_result"
    }
   ],
   "source": [
    "recommend_phone(\"REDMI 10 Power (Sporty Orange, 128 GB)\", top_n=3)"
   ]
  }
 ],
 "metadata": {
  "kernelspec": {
   "display_name": "Python [conda env:base] *",
   "language": "python",
   "name": "conda-base-py"
  },
  "language_info": {
   "codemirror_mode": {
    "name": "ipython",
    "version": 3
   },
   "file_extension": ".py",
   "mimetype": "text/x-python",
   "name": "python",
   "nbconvert_exporter": "python",
   "pygments_lexer": "ipython3",
   "version": "3.13.5"
  }
 },
 "nbformat": 4,
 "nbformat_minor": 5
}
