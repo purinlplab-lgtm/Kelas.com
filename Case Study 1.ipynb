{
 "cells": [
  {
   "cell_type": "raw",
   "id": "45f64a39-9b2b-4c42-83f1-ce1cba2543c2",
   "metadata": {},
   "source": [
    "1. Imporing Data"
   ]
  },
  {
   "cell_type": "code",
   "execution_count": 1,
   "id": "c40fefa1-d48d-4a2a-8687-95fd5dbcb4ee",
   "metadata": {},
   "outputs": [
    {
     "name": "stdout",
     "output_type": "stream",
     "text": [
      "    TransactionAmount\n",
      "0                 100\n",
      "1                 150\n",
      "2                  50\n",
      "3                 100\n",
      "4                 130\n",
      "5                 120\n",
      "6                 100\n",
      "7                  85\n",
      "8                  70\n",
      "9                 150\n",
      "10                150\n",
      "11                120\n",
      "12                 50\n",
      "13                100\n",
      "14                100\n",
      "15                140\n",
      "16                 90\n",
      "17                150\n",
      "18                 50\n",
      "19                 90\n",
      "20                120\n",
      "21                100\n",
      "22                110\n",
      "23                 75\n",
      "24                 65\n"
     ]
    }
   ],
   "source": [
    "import pandas as pd\n",
    "\n",
    "# Data dari tabel\n",
    "data = [\n",
    "    100, 150, 50, 100, 130, \n",
    "    120, 100, 85, 70, 150,\n",
    "    150, 120, 50, 100, 100,\n",
    "    140, 90, 150, 50, 90,\n",
    "    120, 100, 110, 75, 65\n",
    "]\n",
    "\n",
    "# Membuat DataFrame\n",
    "df = pd.DataFrame(data, columns=['TransactionAmount'])\n",
    "\n",
    "# Tampilkan DataFrame\n",
    "print(df)\n"
   ]
  },
  {
   "cell_type": "raw",
   "id": "06bd4d6c-303a-44a7-93c3-995602c9c52c",
   "metadata": {
    "editable": true,
    "slideshow": {
     "slide_type": ""
    },
    "tags": []
   },
   "source": [
    "#Artinya:\n",
    "#1.\tpd.DataFrame(...) memanggil fungsi dari pandas untuk membuat sebuah DataFrame (struktur data mirip tabel: ada baris dan kolom, seperti Excel).\n",
    "#2.\tdata  adalah isi datanya, misalnya daftar angka [100, 150, 50, ...]. Itu nanti jadi baris-baris DataFrame.\n",
    "#3.\tcolumns=['TransactionAmount'] memberi nama kolom pada DataFrame. Karena kita cuma punya satu kolom, namanya jadi 'TransactionAmount'.\n",
    "#4.\tdf = ...  hasil DataFrame disimpan ke variabel bernama df, supaya bisa dipakai lagi nanti (misalnya ditampilkan, dianalisis, dihitung rata-rata, dll)#"
   ]
  },
  {
   "cell_type": "raw",
   "id": "8fa7dacb-12e2-42a0-bc40-19620bb24cab",
   "metadata": {},
   "source": [
    "2. Descriptive Statistics"
   ]
  },
  {
   "cell_type": "code",
   "execution_count": 2,
   "id": "3cb8cfb6-4688-4b4d-a4cd-44384496d21f",
   "metadata": {},
   "outputs": [
    {
     "name": "stdout",
     "output_type": "stream",
     "text": [
      "Mean   : 102.6\n",
      "Median : 100.0\n",
      "Mode   : 100\n"
     ]
    }
   ],
   "source": [
    "mean_val = df['TransactionAmount'].mean()\n",
    "median_val = df['TransactionAmount'].median()\n",
    "mode_val = df['TransactionAmount'].mode()[0]  # ambil modus pertama\n",
    "\n",
    "print(\"Mean   :\", mean_val)\n",
    "print(\"Median :\", median_val)\n",
    "print(\"Mode   :\", mode_val)"
   ]
  },
  {
   "cell_type": "raw",
   "id": "7ba28220-b416-4c5b-b500-651539379f7f",
   "metadata": {},
   "source": [
    "3. Measure of variability"
   ]
  },
  {
   "cell_type": "code",
   "execution_count": 4,
   "id": "e6fede20-60f5-47ea-9c7c-9e00620e84e0",
   "metadata": {},
   "outputs": [
    {
     "name": "stdout",
     "output_type": "stream",
     "text": [
      "Range               : 100\n",
      "Variance            : 1012.7499999999997\n",
      "Standard Deviation  : 31.82373328193912\n",
      "Q1 (25th percentile): 85.0\n",
      "Q3 (75th percentile): 120.0\n",
      "Interquartile Range : 35.0\n"
     ]
    }
   ],
   "source": [
    "range_val = df['TransactionAmount'].max() - df['TransactionAmount'].min()\n",
    "variance_val = df['TransactionAmount'].var()   # sample variance\n",
    "std_dev_val = df['TransactionAmount'].std()   # sample std deviation\n",
    "q1 = df['TransactionAmount'].quantile(0.25)\n",
    "q3 = df['TransactionAmount'].quantile(0.75)\n",
    "iqr_val = q3 - q1\n",
    "\n",
    "print(\"Range               :\", range_val)\n",
    "print(\"Variance            :\", variance_val)\n",
    "print(\"Standard Deviation  :\", std_dev_val)\n",
    "print(\"Q1 (25th percentile):\", q1)\n",
    "print(\"Q3 (75th percentile):\", q3)\n",
    "print(\"Interquartile Range :\", iqr_val)\n"
   ]
  },
  {
   "cell_type": "raw",
   "id": "bfcec9d1-b1c6-4ffd-bf3e-9c7204f6a1b4",
   "metadata": {},
   "source": [
    "4. Inferential Statistics"
   ]
  },
  {
   "cell_type": "code",
   "execution_count": 5,
   "id": "b67e662a-1dcf-4c2b-aa0b-f1f7aad80c76",
   "metadata": {},
   "outputs": [
    {
     "name": "stdout",
     "output_type": "stream",
     "text": [
      "T-Statistic : 0.4085001556802841\n",
      "P-Value (one-tailed) : 0.34326424067190586\n",
      "Gagal tolak H0 → tidak ada bukti training meningkatkan rata-rata transaksi\n"
     ]
    }
   ],
   "source": [
    "import pandas as pd\n",
    "from scipy import stats\n",
    "\n",
    "# Nilai rata-rata sebelumnya\n",
    "mu_test = 100\n",
    "\n",
    "# One-sample T-Test (two-tailed)\n",
    "t_stat, p_value_two_tailed = stats.ttest_1samp(df['TransactionAmount'], mu_test)\n",
    "\n",
    "# Ubah menjadi one-tailed (karena H1: mu > 100)\n",
    "p_value_one_tailed = p_value_two_tailed / 2 if t_stat > 0 else 1 - (p_value_two_tailed / 2)\n",
    "\n",
    "print(\"T-Statistic :\", t_stat)\n",
    "print(\"P-Value (one-tailed) :\", p_value_one_tailed)\n",
    "\n",
    "# Kesimpulan\n",
    "alpha = 0.05\n",
    "if p_value_one_tailed < alpha:\n",
    "    print(\"Tolak H0 → training meningkatkan rata-rata transaksi\")\n",
    "else:\n",
    "    print(\"Gagal tolak H0 → tidak ada bukti training meningkatkan rata-rata transaksi\")\n"
   ]
  },
  {
   "cell_type": "raw",
   "id": "c98ff69c-2384-453a-8fd0-4ad8bb667a74",
   "metadata": {},
   "source": [
    "5. Conclusion "
   ]
  },
  {
   "cell_type": "raw",
   "id": "c3ce0e40-a139-4dd6-8c94-9e866064390b",
   "metadata": {},
   "source": [
    "Based on the results of the one-sample t-test, the resulting p-value is 0.343. This value is greater than the established significance level (alpha), which is 0.05.\n",
    "\n",
    "Therefore, we fail to reject the null hypothesis (H0). This means there is insufficient statistical evidence to suggest that the training significantly increased the average number of transactions. Although the average number of transactions may have increased slightly, this change is most likely due to random factors, not the direct influence of the training."
   ]
  }
 ],
 "metadata": {
  "kernelspec": {
   "display_name": "Python [conda env:base] *",
   "language": "python",
   "name": "conda-base-py"
  },
  "language_info": {
   "codemirror_mode": {
    "name": "ipython",
    "version": 3
   },
   "file_extension": ".py",
   "mimetype": "text/x-python",
   "name": "python",
   "nbconvert_exporter": "python",
   "pygments_lexer": "ipython3",
   "version": "3.13.5"
  }
 },
 "nbformat": 4,
 "nbformat_minor": 5
}
